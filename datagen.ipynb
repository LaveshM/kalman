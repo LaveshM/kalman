{
 "cells": [
  {
   "cell_type": "code",
   "execution_count": null,
   "metadata": {},
   "outputs": [
    {
     "name": "stdout",
     "output_type": "stream",
     "text": [
      "Video saved as 'projectile_motion.mov'.\n"
     ]
    }
   ],
   "source": [
    "import numpy as np\n",
    "import cv2\n",
    "import matplotlib.pyplot as plt\n",
    "from matplotlib.patches import Circle\n",
    "\n",
    "# Function to generate projectile motion\n",
    "def projectile_motion(v0, angle, g, duration, fps):\n",
    "    angle_rad = np.radians(angle)\n",
    "    t = np.linspace(0, duration, int(duration * fps))\n",
    "    x = v0 * np.cos(angle_rad) * t\n",
    "    y = v0 * np.sin(angle_rad) * t - 0.5 * g * t**2\n",
    "    return x, y, t\n",
    "\n",
    "# Parameters\n",
    "v0 = 55  # initial velocity (m/s)\n",
    "angle = 45  # launch angle (degrees)\n",
    "g = 9.8  # gravitational acceleration (m/s^2)\n",
    "duration = 15 # duration of motion (s)\n",
    "fps = 120  # frames per second (reduced to slow down the video)\n",
    "frame_size = (800, 500)  # video dimensions\n",
    "\n",
    "# Generate motion data\n",
    "x, y, t = projectile_motion(v0, angle, g, duration, fps)\n",
    "\n",
    "# Determine scaling factor to preserve aspect ratio\n",
    "margin = 100\n",
    "max_x = np.max(x)\n",
    "max_y = np.max(y)\n",
    "scale = min(\n",
    "    (frame_size[0] - 2 * margin) / max_x,  # Horizontal scaling\n",
    "    (frame_size[1] - 2 * margin) / max_y  # Vertical scaling\n",
    ")\n",
    "\n",
    "# Normalize data for screen coordinates\n",
    "x_normalized = ((x * scale) + margin).astype(int)\n",
    "y_normalized = frame_size[1] - ((y * scale) + margin).astype(int)  # Invert y-axis for screen\n",
    "\n",
    "# Create video writer\n",
    "fourcc = cv2.VideoWriter_fourcc(*'avc1')\n",
    "out = cv2.VideoWriter('projectile_motion.mov', fourcc, fps, frame_size)\n",
    "\n",
    "# Add some initial blank frames to generate a pause at the beginning\n",
    "for i in range(20):\n",
    "    frame = 20*np.ones((frame_size[1], frame_size[0], 3), dtype=np.uint8)  # Black background\n",
    "    out.write(frame)\n",
    "\n",
    "for i in range(len(t)):\n",
    "    frame = 20*np.ones((frame_size[1], frame_size[0], 3), dtype=np.uint8)  # Black background\n",
    "\n",
    "    center = (x_normalized[i], y_normalized[i])\n",
    "    cv2.circle(frame, center, 8, (150, 240, 255), -1) \n",
    "    out.write(frame)\n",
    "\n",
    "out.release()\n",
    "\n",
    "print(\"Video saved as 'projectile_motion.mov'.\")"
   ]
  }
 ],
 "metadata": {
  "kernelspec": {
   "display_name": "torch",
   "language": "python",
   "name": "python3"
  },
  "language_info": {
   "codemirror_mode": {
    "name": "ipython",
    "version": 3
   },
   "file_extension": ".py",
   "mimetype": "text/x-python",
   "name": "python",
   "nbconvert_exporter": "python",
   "pygments_lexer": "ipython3",
   "version": "3.12.4"
  }
 },
 "nbformat": 4,
 "nbformat_minor": 2
}
